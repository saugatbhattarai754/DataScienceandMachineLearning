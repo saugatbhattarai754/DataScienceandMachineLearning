{
 "cells": [
  {
   "cell_type": "code",
   "execution_count": 43,
   "id": "0ed29459",
   "metadata": {},
   "outputs": [],
   "source": [
    "import pandas as pd\n",
    "import numpy as np\n",
    "import seaborn as sns"
   ]
  },
  {
   "cell_type": "code",
   "execution_count": 3,
   "id": "cb2ad4c3",
   "metadata": {},
   "outputs": [
    {
     "name": "stderr",
     "output_type": "stream",
     "text": [
      "C:\\Users\\Saugat\\AppData\\Local\\Temp\\ipykernel_8652\\4176767329.py:1: DtypeWarning: Columns (7) have mixed types. Specify dtype option on import or set low_memory=False.\n",
      "  df = pd.read_csv('fires.csv')\n"
     ]
    }
   ],
   "source": [
    "df = pd.read_csv('fires.csv')"
   ]
  },
  {
   "cell_type": "code",
   "execution_count": 4,
   "id": "a6fea48f",
   "metadata": {},
   "outputs": [
    {
     "data": {
      "text/html": [
       "<div>\n",
       "<style scoped>\n",
       "    .dataframe tbody tr th:only-of-type {\n",
       "        vertical-align: middle;\n",
       "    }\n",
       "\n",
       "    .dataframe tbody tr th {\n",
       "        vertical-align: top;\n",
       "    }\n",
       "\n",
       "    .dataframe thead th {\n",
       "        text-align: right;\n",
       "    }\n",
       "</style>\n",
       "<table border=\"1\" class=\"dataframe\">\n",
       "  <thead>\n",
       "    <tr style=\"text-align: right;\">\n",
       "      <th></th>\n",
       "      <th>FIRE_NAME</th>\n",
       "      <th>FIRE_SIZE</th>\n",
       "      <th>STATE</th>\n",
       "      <th>LATITUDE</th>\n",
       "      <th>LONGITUDE</th>\n",
       "      <th>FIRE_YEAR</th>\n",
       "      <th>discovery_date</th>\n",
       "      <th>contain_date</th>\n",
       "    </tr>\n",
       "  </thead>\n",
       "  <tbody>\n",
       "    <tr>\n",
       "      <th>0</th>\n",
       "      <td>FOUNTAIN</td>\n",
       "      <td>0.10</td>\n",
       "      <td>CA</td>\n",
       "      <td>40.036944</td>\n",
       "      <td>-121.005833</td>\n",
       "      <td>2005</td>\n",
       "      <td>2005-02-02 00:00:00</td>\n",
       "      <td>2005-02-02 00:00:00</td>\n",
       "    </tr>\n",
       "    <tr>\n",
       "      <th>1</th>\n",
       "      <td>PIGEON</td>\n",
       "      <td>0.25</td>\n",
       "      <td>CA</td>\n",
       "      <td>38.933056</td>\n",
       "      <td>-120.404444</td>\n",
       "      <td>2004</td>\n",
       "      <td>2004-05-12 00:00:00</td>\n",
       "      <td>2004-05-12 00:00:00</td>\n",
       "    </tr>\n",
       "    <tr>\n",
       "      <th>2</th>\n",
       "      <td>SLACK</td>\n",
       "      <td>0.10</td>\n",
       "      <td>CA</td>\n",
       "      <td>38.984167</td>\n",
       "      <td>-120.735556</td>\n",
       "      <td>2004</td>\n",
       "      <td>2004-05-31 00:00:00</td>\n",
       "      <td>2004-05-31 00:00:00</td>\n",
       "    </tr>\n",
       "    <tr>\n",
       "      <th>3</th>\n",
       "      <td>DEER</td>\n",
       "      <td>0.10</td>\n",
       "      <td>CA</td>\n",
       "      <td>38.559167</td>\n",
       "      <td>-119.913333</td>\n",
       "      <td>2004</td>\n",
       "      <td>2004-06-28 00:00:00</td>\n",
       "      <td>2004-07-03 00:00:00</td>\n",
       "    </tr>\n",
       "    <tr>\n",
       "      <th>4</th>\n",
       "      <td>STEVENOT</td>\n",
       "      <td>0.10</td>\n",
       "      <td>CA</td>\n",
       "      <td>38.559167</td>\n",
       "      <td>-119.933056</td>\n",
       "      <td>2004</td>\n",
       "      <td>2004-06-28 00:00:00</td>\n",
       "      <td>2004-07-03 00:00:00</td>\n",
       "    </tr>\n",
       "  </tbody>\n",
       "</table>\n",
       "</div>"
      ],
      "text/plain": [
       "  FIRE_NAME  FIRE_SIZE STATE   LATITUDE   LONGITUDE  FIRE_YEAR  \\\n",
       "0  FOUNTAIN       0.10    CA  40.036944 -121.005833       2005   \n",
       "1    PIGEON       0.25    CA  38.933056 -120.404444       2004   \n",
       "2     SLACK       0.10    CA  38.984167 -120.735556       2004   \n",
       "3      DEER       0.10    CA  38.559167 -119.913333       2004   \n",
       "4  STEVENOT       0.10    CA  38.559167 -119.933056       2004   \n",
       "\n",
       "        discovery_date         contain_date  \n",
       "0  2005-02-02 00:00:00  2005-02-02 00:00:00  \n",
       "1  2004-05-12 00:00:00  2004-05-12 00:00:00  \n",
       "2  2004-05-31 00:00:00  2004-05-31 00:00:00  \n",
       "3  2004-06-28 00:00:00  2004-07-03 00:00:00  \n",
       "4  2004-06-28 00:00:00  2004-07-03 00:00:00  "
      ]
     },
     "execution_count": 4,
     "metadata": {},
     "output_type": "execute_result"
    }
   ],
   "source": [
    "df.head()"
   ]
  },
  {
   "cell_type": "code",
   "execution_count": 5,
   "id": "228698bd",
   "metadata": {},
   "outputs": [
    {
     "name": "stdout",
     "output_type": "stream",
     "text": [
      "<class 'pandas.core.frame.DataFrame'>\n",
      "RangeIndex: 1880465 entries, 0 to 1880464\n",
      "Data columns (total 8 columns):\n",
      " #   Column          Dtype  \n",
      "---  ------          -----  \n",
      " 0   FIRE_NAME       object \n",
      " 1   FIRE_SIZE       float64\n",
      " 2   STATE           object \n",
      " 3   LATITUDE        float64\n",
      " 4   LONGITUDE       float64\n",
      " 5   FIRE_YEAR       int64  \n",
      " 6   discovery_date  object \n",
      " 7   contain_date    object \n",
      "dtypes: float64(3), int64(1), object(4)\n",
      "memory usage: 114.8+ MB\n"
     ]
    }
   ],
   "source": [
    "df.info()"
   ]
  },
  {
   "cell_type": "markdown",
   "id": "b1291d5f",
   "metadata": {},
   "source": [
    "### Q1. Find the dimensions of the DF. Make the colnames lowercase."
   ]
  },
  {
   "cell_type": "code",
   "execution_count": 6,
   "id": "458a4e7a",
   "metadata": {},
   "outputs": [
    {
     "data": {
      "text/plain": [
       "(1880465, 8)"
      ]
     },
     "execution_count": 6,
     "metadata": {},
     "output_type": "execute_result"
    }
   ],
   "source": [
    "df.shape"
   ]
  },
  {
   "cell_type": "code",
   "execution_count": 7,
   "id": "bb66c95a",
   "metadata": {},
   "outputs": [],
   "source": [
    "df.columns = [x.lower() for x in df.columns]"
   ]
  },
  {
   "cell_type": "code",
   "execution_count": 8,
   "id": "f90533ba",
   "metadata": {},
   "outputs": [
    {
     "data": {
      "text/plain": [
       "Index(['fire_name', 'fire_size', 'state', 'latitude', 'longitude', 'fire_year',\n",
       "       'discovery_date', 'contain_date'],\n",
       "      dtype='object')"
      ]
     },
     "execution_count": 8,
     "metadata": {},
     "output_type": "execute_result"
    }
   ],
   "source": [
    "df.columns"
   ]
  },
  {
   "cell_type": "markdown",
   "id": "cbd4fce8",
   "metadata": {},
   "source": [
    "### Q2. Rename the column `fire_size` to `acres_burned`."
   ]
  },
  {
   "cell_type": "code",
   "execution_count": 9,
   "id": "403d1071",
   "metadata": {},
   "outputs": [],
   "source": [
    "df.rename(columns={'fire_size':'acres_burned'}, inplace = True)"
   ]
  },
  {
   "cell_type": "code",
   "execution_count": 10,
   "id": "76ea10b7",
   "metadata": {},
   "outputs": [
    {
     "data": {
      "text/plain": [
       "Index(['fire_name', 'acres_burned', 'state', 'latitude', 'longitude',\n",
       "       'fire_year', 'discovery_date', 'contain_date'],\n",
       "      dtype='object')"
      ]
     },
     "execution_count": 10,
     "metadata": {},
     "output_type": "execute_result"
    }
   ],
   "source": [
    "df.columns"
   ]
  },
  {
   "cell_type": "markdown",
   "id": "a1a998f5",
   "metadata": {},
   "source": [
    "### Q3. Convert the data in the `fire_name` column such that the data starts with a capital letter. (ie `PIGEON LAKE` -> `Pigeon lake`)"
   ]
  },
  {
   "cell_type": "code",
   "execution_count": 11,
   "id": "341a344c",
   "metadata": {},
   "outputs": [],
   "source": [
    "df['fire_name'] = df['fire_name'].str.capitalize()"
   ]
  },
  {
   "cell_type": "code",
   "execution_count": 12,
   "id": "b7767f17",
   "metadata": {},
   "outputs": [
    {
     "data": {
      "text/html": [
       "<div>\n",
       "<style scoped>\n",
       "    .dataframe tbody tr th:only-of-type {\n",
       "        vertical-align: middle;\n",
       "    }\n",
       "\n",
       "    .dataframe tbody tr th {\n",
       "        vertical-align: top;\n",
       "    }\n",
       "\n",
       "    .dataframe thead th {\n",
       "        text-align: right;\n",
       "    }\n",
       "</style>\n",
       "<table border=\"1\" class=\"dataframe\">\n",
       "  <thead>\n",
       "    <tr style=\"text-align: right;\">\n",
       "      <th></th>\n",
       "      <th>fire_name</th>\n",
       "      <th>acres_burned</th>\n",
       "      <th>state</th>\n",
       "      <th>latitude</th>\n",
       "      <th>longitude</th>\n",
       "      <th>fire_year</th>\n",
       "      <th>discovery_date</th>\n",
       "      <th>contain_date</th>\n",
       "    </tr>\n",
       "  </thead>\n",
       "  <tbody>\n",
       "    <tr>\n",
       "      <th>0</th>\n",
       "      <td>Fountain</td>\n",
       "      <td>0.10</td>\n",
       "      <td>CA</td>\n",
       "      <td>40.036944</td>\n",
       "      <td>-121.005833</td>\n",
       "      <td>2005</td>\n",
       "      <td>2005-02-02 00:00:00</td>\n",
       "      <td>2005-02-02 00:00:00</td>\n",
       "    </tr>\n",
       "    <tr>\n",
       "      <th>1</th>\n",
       "      <td>Pigeon</td>\n",
       "      <td>0.25</td>\n",
       "      <td>CA</td>\n",
       "      <td>38.933056</td>\n",
       "      <td>-120.404444</td>\n",
       "      <td>2004</td>\n",
       "      <td>2004-05-12 00:00:00</td>\n",
       "      <td>2004-05-12 00:00:00</td>\n",
       "    </tr>\n",
       "    <tr>\n",
       "      <th>2</th>\n",
       "      <td>Slack</td>\n",
       "      <td>0.10</td>\n",
       "      <td>CA</td>\n",
       "      <td>38.984167</td>\n",
       "      <td>-120.735556</td>\n",
       "      <td>2004</td>\n",
       "      <td>2004-05-31 00:00:00</td>\n",
       "      <td>2004-05-31 00:00:00</td>\n",
       "    </tr>\n",
       "    <tr>\n",
       "      <th>3</th>\n",
       "      <td>Deer</td>\n",
       "      <td>0.10</td>\n",
       "      <td>CA</td>\n",
       "      <td>38.559167</td>\n",
       "      <td>-119.913333</td>\n",
       "      <td>2004</td>\n",
       "      <td>2004-06-28 00:00:00</td>\n",
       "      <td>2004-07-03 00:00:00</td>\n",
       "    </tr>\n",
       "    <tr>\n",
       "      <th>4</th>\n",
       "      <td>Stevenot</td>\n",
       "      <td>0.10</td>\n",
       "      <td>CA</td>\n",
       "      <td>38.559167</td>\n",
       "      <td>-119.933056</td>\n",
       "      <td>2004</td>\n",
       "      <td>2004-06-28 00:00:00</td>\n",
       "      <td>2004-07-03 00:00:00</td>\n",
       "    </tr>\n",
       "  </tbody>\n",
       "</table>\n",
       "</div>"
      ],
      "text/plain": [
       "  fire_name  acres_burned state   latitude   longitude  fire_year  \\\n",
       "0  Fountain          0.10    CA  40.036944 -121.005833       2005   \n",
       "1    Pigeon          0.25    CA  38.933056 -120.404444       2004   \n",
       "2     Slack          0.10    CA  38.984167 -120.735556       2004   \n",
       "3      Deer          0.10    CA  38.559167 -119.913333       2004   \n",
       "4  Stevenot          0.10    CA  38.559167 -119.933056       2004   \n",
       "\n",
       "        discovery_date         contain_date  \n",
       "0  2005-02-02 00:00:00  2005-02-02 00:00:00  \n",
       "1  2004-05-12 00:00:00  2004-05-12 00:00:00  \n",
       "2  2004-05-31 00:00:00  2004-05-31 00:00:00  \n",
       "3  2004-06-28 00:00:00  2004-07-03 00:00:00  \n",
       "4  2004-06-28 00:00:00  2004-07-03 00:00:00  "
      ]
     },
     "execution_count": 12,
     "metadata": {},
     "output_type": "execute_result"
    }
   ],
   "source": [
    "df.head()"
   ]
  },
  {
   "cell_type": "markdown",
   "id": "d4aadac4",
   "metadata": {},
   "source": [
    "### Q4. Drop unnecessary rows- having fire size less than 10 acres."
   ]
  },
  {
   "cell_type": "code",
   "execution_count": 13,
   "id": "b5895005",
   "metadata": {},
   "outputs": [],
   "source": [
    "df.drop(df[df['acres_burned']<10].index, inplace= True)"
   ]
  },
  {
   "cell_type": "code",
   "execution_count": 14,
   "id": "523e3426",
   "metadata": {},
   "outputs": [
    {
     "data": {
      "text/plain": [
       "(274170, 8)"
      ]
     },
     "execution_count": 14,
     "metadata": {},
     "output_type": "execute_result"
    }
   ],
   "source": [
    "df.shape"
   ]
  },
  {
   "cell_type": "markdown",
   "id": "1bccaf39",
   "metadata": {},
   "source": [
    "### Q5. Drop duplicate rows, if any. If so, keep the first duplicate of each such duplicate set."
   ]
  },
  {
   "cell_type": "code",
   "execution_count": 15,
   "id": "34aa4689",
   "metadata": {},
   "outputs": [],
   "source": [
    "df.drop_duplicates(keep='first', inplace = True )"
   ]
  },
  {
   "cell_type": "code",
   "execution_count": 16,
   "id": "5bf3d7ae",
   "metadata": {},
   "outputs": [
    {
     "data": {
      "text/plain": [
       "(274123, 8)"
      ]
     },
     "execution_count": 16,
     "metadata": {},
     "output_type": "execute_result"
    }
   ],
   "source": [
    "df.shape"
   ]
  },
  {
   "cell_type": "markdown",
   "id": "aaac78ec",
   "metadata": {},
   "source": [
    "### Q6. Ensure that the `date` columns have the correct datatype."
   ]
  },
  {
   "cell_type": "code",
   "execution_count": 17,
   "id": "73db8736",
   "metadata": {},
   "outputs": [],
   "source": [
    "df['discovery_date'] = pd.to_datetime(df['discovery_date'])\n",
    "df['contain_date'] = pd.to_datetime(df['contain_date'])"
   ]
  },
  {
   "cell_type": "code",
   "execution_count": 18,
   "id": "d9f2b394",
   "metadata": {},
   "outputs": [
    {
     "name": "stdout",
     "output_type": "stream",
     "text": [
      "<class 'pandas.core.frame.DataFrame'>\n",
      "Index: 274123 entries, 16 to 1880441\n",
      "Data columns (total 8 columns):\n",
      " #   Column          Non-Null Count   Dtype         \n",
      "---  ------          --------------   -----         \n",
      " 0   fire_name       128661 non-null  object        \n",
      " 1   acres_burned    274123 non-null  float64       \n",
      " 2   state           274123 non-null  object        \n",
      " 3   latitude        274123 non-null  float64       \n",
      " 4   longitude       274123 non-null  float64       \n",
      " 5   fire_year       274123 non-null  int64         \n",
      " 6   discovery_date  274123 non-null  datetime64[ns]\n",
      " 7   contain_date    137376 non-null  datetime64[ns]\n",
      "dtypes: datetime64[ns](2), float64(3), int64(1), object(2)\n",
      "memory usage: 18.8+ MB\n"
     ]
    }
   ],
   "source": [
    "df.info()"
   ]
  },
  {
   "cell_type": "markdown",
   "id": "4e97844c",
   "metadata": {},
   "source": [
    "### Q7. Check for missing values in the `contain_date` column. Find the number."
   ]
  },
  {
   "cell_type": "code",
   "execution_count": 19,
   "id": "e49da4ac",
   "metadata": {},
   "outputs": [
    {
     "data": {
      "text/html": [
       "<div>\n",
       "<style scoped>\n",
       "    .dataframe tbody tr th:only-of-type {\n",
       "        vertical-align: middle;\n",
       "    }\n",
       "\n",
       "    .dataframe tbody tr th {\n",
       "        vertical-align: top;\n",
       "    }\n",
       "\n",
       "    .dataframe thead th {\n",
       "        text-align: right;\n",
       "    }\n",
       "</style>\n",
       "<table border=\"1\" class=\"dataframe\">\n",
       "  <thead>\n",
       "    <tr style=\"text-align: right;\">\n",
       "      <th></th>\n",
       "      <th>fire_name</th>\n",
       "      <th>acres_burned</th>\n",
       "      <th>state</th>\n",
       "      <th>latitude</th>\n",
       "      <th>longitude</th>\n",
       "      <th>fire_year</th>\n",
       "      <th>discovery_date</th>\n",
       "      <th>contain_date</th>\n",
       "    </tr>\n",
       "  </thead>\n",
       "  <tbody>\n",
       "    <tr>\n",
       "      <th>1566</th>\n",
       "      <td>Seven springs</td>\n",
       "      <td>85.00</td>\n",
       "      <td>MO</td>\n",
       "      <td>36.992500</td>\n",
       "      <td>-92.186111</td>\n",
       "      <td>2005</td>\n",
       "      <td>2005-03-17</td>\n",
       "      <td>NaT</td>\n",
       "    </tr>\n",
       "    <tr>\n",
       "      <th>5095</th>\n",
       "      <td>Peppin</td>\n",
       "      <td>64488.00</td>\n",
       "      <td>NM</td>\n",
       "      <td>33.601389</td>\n",
       "      <td>-105.433333</td>\n",
       "      <td>2004</td>\n",
       "      <td>2004-05-15</td>\n",
       "      <td>NaT</td>\n",
       "    </tr>\n",
       "    <tr>\n",
       "      <th>5740</th>\n",
       "      <td>Rochelle hills</td>\n",
       "      <td>230.00</td>\n",
       "      <td>WY</td>\n",
       "      <td>43.571667</td>\n",
       "      <td>-105.085833</td>\n",
       "      <td>2005</td>\n",
       "      <td>2005-08-26</td>\n",
       "      <td>NaT</td>\n",
       "    </tr>\n",
       "    <tr>\n",
       "      <th>8187</th>\n",
       "      <td>Knife</td>\n",
       "      <td>560.00</td>\n",
       "      <td>AZ</td>\n",
       "      <td>35.132778</td>\n",
       "      <td>-111.399444</td>\n",
       "      <td>2006</td>\n",
       "      <td>2006-05-27</td>\n",
       "      <td>NaT</td>\n",
       "    </tr>\n",
       "    <tr>\n",
       "      <th>10883</th>\n",
       "      <td>Grant</td>\n",
       "      <td>190.00</td>\n",
       "      <td>AZ</td>\n",
       "      <td>33.626111</td>\n",
       "      <td>-109.248889</td>\n",
       "      <td>2006</td>\n",
       "      <td>2006-07-19</td>\n",
       "      <td>NaT</td>\n",
       "    </tr>\n",
       "    <tr>\n",
       "      <th>...</th>\n",
       "      <td>...</td>\n",
       "      <td>...</td>\n",
       "      <td>...</td>\n",
       "      <td>...</td>\n",
       "      <td>...</td>\n",
       "      <td>...</td>\n",
       "      <td>...</td>\n",
       "      <td>...</td>\n",
       "    </tr>\n",
       "    <tr>\n",
       "      <th>1880206</th>\n",
       "      <td>Ranchita</td>\n",
       "      <td>24.20</td>\n",
       "      <td>CA</td>\n",
       "      <td>35.805000</td>\n",
       "      <td>-120.575000</td>\n",
       "      <td>2010</td>\n",
       "      <td>2010-06-21</td>\n",
       "      <td>NaT</td>\n",
       "    </tr>\n",
       "    <tr>\n",
       "      <th>1880316</th>\n",
       "      <td>NaN</td>\n",
       "      <td>24.74</td>\n",
       "      <td>CA</td>\n",
       "      <td>35.271667</td>\n",
       "      <td>-118.617967</td>\n",
       "      <td>2013</td>\n",
       "      <td>2013-05-25</td>\n",
       "      <td>NaT</td>\n",
       "    </tr>\n",
       "    <tr>\n",
       "      <th>1880352</th>\n",
       "      <td>San marcos</td>\n",
       "      <td>70.00</td>\n",
       "      <td>CA</td>\n",
       "      <td>38.020433</td>\n",
       "      <td>-121.982883</td>\n",
       "      <td>2010</td>\n",
       "      <td>2010-08-23</td>\n",
       "      <td>NaT</td>\n",
       "    </tr>\n",
       "    <tr>\n",
       "      <th>1880419</th>\n",
       "      <td>Slaughterhouse</td>\n",
       "      <td>50.00</td>\n",
       "      <td>CA</td>\n",
       "      <td>32.906591</td>\n",
       "      <td>-116.942448</td>\n",
       "      <td>2010</td>\n",
       "      <td>2010-05-29</td>\n",
       "      <td>NaT</td>\n",
       "    </tr>\n",
       "    <tr>\n",
       "      <th>1880441</th>\n",
       "      <td>NaN</td>\n",
       "      <td>11.00</td>\n",
       "      <td>CA</td>\n",
       "      <td>34.450000</td>\n",
       "      <td>-118.583333</td>\n",
       "      <td>2015</td>\n",
       "      <td>2015-12-07</td>\n",
       "      <td>NaT</td>\n",
       "    </tr>\n",
       "  </tbody>\n",
       "</table>\n",
       "<p>136747 rows × 8 columns</p>\n",
       "</div>"
      ],
      "text/plain": [
       "              fire_name  acres_burned state   latitude   longitude  fire_year  \\\n",
       "1566      Seven springs         85.00    MO  36.992500  -92.186111       2005   \n",
       "5095             Peppin      64488.00    NM  33.601389 -105.433333       2004   \n",
       "5740     Rochelle hills        230.00    WY  43.571667 -105.085833       2005   \n",
       "8187              Knife        560.00    AZ  35.132778 -111.399444       2006   \n",
       "10883             Grant        190.00    AZ  33.626111 -109.248889       2006   \n",
       "...                 ...           ...   ...        ...         ...        ...   \n",
       "1880206        Ranchita         24.20    CA  35.805000 -120.575000       2010   \n",
       "1880316             NaN         24.74    CA  35.271667 -118.617967       2013   \n",
       "1880352      San marcos         70.00    CA  38.020433 -121.982883       2010   \n",
       "1880419  Slaughterhouse         50.00    CA  32.906591 -116.942448       2010   \n",
       "1880441             NaN         11.00    CA  34.450000 -118.583333       2015   \n",
       "\n",
       "        discovery_date contain_date  \n",
       "1566        2005-03-17          NaT  \n",
       "5095        2004-05-15          NaT  \n",
       "5740        2005-08-26          NaT  \n",
       "8187        2006-05-27          NaT  \n",
       "10883       2006-07-19          NaT  \n",
       "...                ...          ...  \n",
       "1880206     2010-06-21          NaT  \n",
       "1880316     2013-05-25          NaT  \n",
       "1880352     2010-08-23          NaT  \n",
       "1880419     2010-05-29          NaT  \n",
       "1880441     2015-12-07          NaT  \n",
       "\n",
       "[136747 rows x 8 columns]"
      ]
     },
     "execution_count": 19,
     "metadata": {},
     "output_type": "execute_result"
    }
   ],
   "source": [
    "df[df['contain_date'].isnull()]"
   ]
  },
  {
   "cell_type": "code",
   "execution_count": 20,
   "id": "a96bca5a",
   "metadata": {},
   "outputs": [
    {
     "data": {
      "text/plain": [
       "136747"
      ]
     },
     "execution_count": 20,
     "metadata": {},
     "output_type": "execute_result"
    }
   ],
   "source": [
    "df['contain_date'].isna().sum()"
   ]
  },
  {
   "cell_type": "markdown",
   "id": "75012047",
   "metadata": {},
   "source": [
    "#### a) Check for missing values of  `contain_date`  where fires exceed 10000 acres."
   ]
  },
  {
   "cell_type": "code",
   "execution_count": 21,
   "id": "d00580ff",
   "metadata": {},
   "outputs": [
    {
     "data": {
      "text/plain": [
       "16         False\n",
       "188        False\n",
       "1505       False\n",
       "1588       False\n",
       "3867       False\n",
       "           ...  \n",
       "1869553     True\n",
       "1874306    False\n",
       "1877519     True\n",
       "1877889    False\n",
       "1878523     True\n",
       "Name: contain_date, Length: 2174, dtype: bool"
      ]
     },
     "execution_count": 21,
     "metadata": {},
     "output_type": "execute_result"
    }
   ],
   "source": [
    "df['contain_date'][df['acres_burned']>10000].isna()"
   ]
  },
  {
   "cell_type": "code",
   "execution_count": 22,
   "id": "d3bbda82",
   "metadata": {},
   "outputs": [
    {
     "data": {
      "text/plain": [
       "263"
      ]
     },
     "execution_count": 22,
     "metadata": {},
     "output_type": "execute_result"
    }
   ],
   "source": [
    "df['contain_date'][df['acres_burned']>10000].isna().sum()"
   ]
  },
  {
   "cell_type": "markdown",
   "id": "9bc92052",
   "metadata": {},
   "source": [
    "#### b) Check the values of  `contain_date` to see if they are reasonable."
   ]
  },
  {
   "cell_type": "code",
   "execution_count": 23,
   "id": "27b9e417",
   "metadata": {},
   "outputs": [
    {
     "data": {
      "text/plain": [
       "8479"
      ]
     },
     "execution_count": 23,
     "metadata": {},
     "output_type": "execute_result"
    }
   ],
   "source": [
    "df['contain_date'].nunique()"
   ]
  },
  {
   "cell_type": "code",
   "execution_count": 24,
   "id": "85794fa8",
   "metadata": {},
   "outputs": [
    {
     "data": {
      "text/plain": [
       "137376"
      ]
     },
     "execution_count": 24,
     "metadata": {},
     "output_type": "execute_result"
    }
   ],
   "source": [
    "df['contain_date'].count()"
   ]
  },
  {
   "cell_type": "code",
   "execution_count": 26,
   "id": "ffe9338b",
   "metadata": {},
   "outputs": [
    {
     "data": {
      "text/html": [
       "<div>\n",
       "<style scoped>\n",
       "    .dataframe tbody tr th:only-of-type {\n",
       "        vertical-align: middle;\n",
       "    }\n",
       "\n",
       "    .dataframe tbody tr th {\n",
       "        vertical-align: top;\n",
       "    }\n",
       "\n",
       "    .dataframe thead th {\n",
       "        text-align: right;\n",
       "    }\n",
       "</style>\n",
       "<table border=\"1\" class=\"dataframe\">\n",
       "  <thead>\n",
       "    <tr style=\"text-align: right;\">\n",
       "      <th></th>\n",
       "      <th>fire_name</th>\n",
       "      <th>acres_burned</th>\n",
       "      <th>state</th>\n",
       "      <th>latitude</th>\n",
       "      <th>longitude</th>\n",
       "      <th>fire_year</th>\n",
       "      <th>discovery_date</th>\n",
       "      <th>contain_date</th>\n",
       "    </tr>\n",
       "  </thead>\n",
       "  <tbody>\n",
       "  </tbody>\n",
       "</table>\n",
       "</div>"
      ],
      "text/plain": [
       "Empty DataFrame\n",
       "Columns: [fire_name, acres_burned, state, latitude, longitude, fire_year, discovery_date, contain_date]\n",
       "Index: []"
      ]
     },
     "execution_count": 26,
     "metadata": {},
     "output_type": "execute_result"
    }
   ],
   "source": [
    "df[df['contain_date']<df['discovery_date']]"
   ]
  },
  {
   "cell_type": "code",
   "execution_count": null,
   "id": "3f180484",
   "metadata": {},
   "outputs": [],
   "source": []
  },
  {
   "cell_type": "markdown",
   "id": "dc13d178",
   "metadata": {},
   "source": [
    "#### There are many criteria that determines wether a data is reasonable. In this context, one of the main faactor is wether a dataset is diverse or not which is determined by the percentage of unique value. In the given dataset, the amount of unique value is is more than 6%, the data can be said to be reasonable. Also, the contain date of fire is not less than disovery date which also makes data reasonable."
   ]
  },
  {
   "cell_type": "markdown",
   "id": "a8e84391",
   "metadata": {},
   "source": [
    "### Q9. Add the `fire_month` and `days_burning` columns"
   ]
  },
  {
   "cell_type": "code",
   "execution_count": 29,
   "id": "1b2a5000",
   "metadata": {},
   "outputs": [],
   "source": [
    "df['days_burning'] =  (df['contain_date'])-(df['discovery_date'])"
   ]
  },
  {
   "cell_type": "code",
   "execution_count": 30,
   "id": "bb5b24c7",
   "metadata": {},
   "outputs": [],
   "source": [
    "df['fire_month'] = df['discovery_date'].dt.month"
   ]
  },
  {
   "cell_type": "code",
   "execution_count": 31,
   "id": "a8930524",
   "metadata": {},
   "outputs": [
    {
     "data": {
      "text/html": [
       "<div>\n",
       "<style scoped>\n",
       "    .dataframe tbody tr th:only-of-type {\n",
       "        vertical-align: middle;\n",
       "    }\n",
       "\n",
       "    .dataframe tbody tr th {\n",
       "        vertical-align: top;\n",
       "    }\n",
       "\n",
       "    .dataframe thead th {\n",
       "        text-align: right;\n",
       "    }\n",
       "</style>\n",
       "<table border=\"1\" class=\"dataframe\">\n",
       "  <thead>\n",
       "    <tr style=\"text-align: right;\">\n",
       "      <th></th>\n",
       "      <th>fire_name</th>\n",
       "      <th>acres_burned</th>\n",
       "      <th>state</th>\n",
       "      <th>latitude</th>\n",
       "      <th>longitude</th>\n",
       "      <th>fire_year</th>\n",
       "      <th>discovery_date</th>\n",
       "      <th>contain_date</th>\n",
       "      <th>days_burning</th>\n",
       "      <th>fire_month</th>\n",
       "    </tr>\n",
       "  </thead>\n",
       "  <tbody>\n",
       "    <tr>\n",
       "      <th>16</th>\n",
       "      <td>Power</td>\n",
       "      <td>16823.0</td>\n",
       "      <td>CA</td>\n",
       "      <td>38.523333</td>\n",
       "      <td>-120.211667</td>\n",
       "      <td>2004</td>\n",
       "      <td>2004-10-06</td>\n",
       "      <td>2004-10-21</td>\n",
       "      <td>15 days</td>\n",
       "      <td>10</td>\n",
       "    </tr>\n",
       "    <tr>\n",
       "      <th>17</th>\n",
       "      <td>Freds</td>\n",
       "      <td>7700.0</td>\n",
       "      <td>CA</td>\n",
       "      <td>38.780000</td>\n",
       "      <td>-120.260000</td>\n",
       "      <td>2004</td>\n",
       "      <td>2004-10-13</td>\n",
       "      <td>2004-10-17</td>\n",
       "      <td>4 days</td>\n",
       "      <td>10</td>\n",
       "    </tr>\n",
       "    <tr>\n",
       "      <th>25</th>\n",
       "      <td>Bachelor</td>\n",
       "      <td>10.0</td>\n",
       "      <td>NM</td>\n",
       "      <td>33.315833</td>\n",
       "      <td>-105.512222</td>\n",
       "      <td>2004</td>\n",
       "      <td>2004-07-20</td>\n",
       "      <td>2004-07-20</td>\n",
       "      <td>0 days</td>\n",
       "      <td>7</td>\n",
       "    </tr>\n",
       "    <tr>\n",
       "      <th>37</th>\n",
       "      <td>Howard gap</td>\n",
       "      <td>50.3</td>\n",
       "      <td>NC</td>\n",
       "      <td>35.000278</td>\n",
       "      <td>-83.351111</td>\n",
       "      <td>2005</td>\n",
       "      <td>2005-01-27</td>\n",
       "      <td>2005-01-28</td>\n",
       "      <td>1 days</td>\n",
       "      <td>1</td>\n",
       "    </tr>\n",
       "    <tr>\n",
       "      <th>39</th>\n",
       "      <td>Austin creek</td>\n",
       "      <td>125.0</td>\n",
       "      <td>NC</td>\n",
       "      <td>36.001667</td>\n",
       "      <td>-81.590000</td>\n",
       "      <td>2005</td>\n",
       "      <td>2005-02-12</td>\n",
       "      <td>2005-02-13</td>\n",
       "      <td>1 days</td>\n",
       "      <td>2</td>\n",
       "    </tr>\n",
       "  </tbody>\n",
       "</table>\n",
       "</div>"
      ],
      "text/plain": [
       "       fire_name  acres_burned state   latitude   longitude  fire_year  \\\n",
       "16         Power       16823.0    CA  38.523333 -120.211667       2004   \n",
       "17         Freds        7700.0    CA  38.780000 -120.260000       2004   \n",
       "25      Bachelor          10.0    NM  33.315833 -105.512222       2004   \n",
       "37    Howard gap          50.3    NC  35.000278  -83.351111       2005   \n",
       "39  Austin creek         125.0    NC  36.001667  -81.590000       2005   \n",
       "\n",
       "   discovery_date contain_date days_burning  fire_month  \n",
       "16     2004-10-06   2004-10-21      15 days          10  \n",
       "17     2004-10-13   2004-10-17       4 days          10  \n",
       "25     2004-07-20   2004-07-20       0 days           7  \n",
       "37     2005-01-27   2005-01-28       1 days           1  \n",
       "39     2005-02-12   2005-02-13       1 days           2  "
      ]
     },
     "execution_count": 31,
     "metadata": {},
     "output_type": "execute_result"
    }
   ],
   "source": [
    "df.head()"
   ]
  },
  {
   "cell_type": "markdown",
   "id": "e2643af0",
   "metadata": {},
   "source": [
    "### Q10. Get the statistical summary of the `days_burning` column. What trends do you see in the 3rd quartile, mean and Max length of the fires? Is or isn't anything fishy?"
   ]
  },
  {
   "cell_type": "code",
   "execution_count": 32,
   "id": "05b82ff3",
   "metadata": {},
   "outputs": [
    {
     "data": {
      "text/plain": [
       "count                        137376\n",
       "mean      3 days 06:06:30.566037735\n",
       "std      16 days 01:16:04.778377856\n",
       "min                 0 days 00:00:00\n",
       "25%                 0 days 00:00:00\n",
       "50%                 0 days 00:00:00\n",
       "75%                 1 days 00:00:00\n",
       "max              1881 days 00:00:00\n",
       "Name: days_burning, dtype: object"
      ]
     },
     "execution_count": 32,
     "metadata": {},
     "output_type": "execute_result"
    }
   ],
   "source": [
    "df['days_burning'].describe()"
   ]
  },
  {
   "cell_type": "markdown",
   "id": "fa1f339d",
   "metadata": {},
   "source": [
    "### Q11. Check the value of `days_burning` for fires that exceed 100 acres. What do you notice about the acreage and the `days_burning` for certain outliers?"
   ]
  },
  {
   "cell_type": "code",
   "execution_count": 53,
   "id": "2138a476",
   "metadata": {},
   "outputs": [],
   "source": [
    "df_days_busning100 = df['days_burning'][df['acres_burned']>100]"
   ]
  },
  {
   "cell_type": "code",
   "execution_count": 55,
   "id": "54db8e02",
   "metadata": {},
   "outputs": [
    {
     "data": {
      "text/plain": [
       "16    15 days\n",
       "17     4 days\n",
       "39     1 days\n",
       "116    1 days\n",
       "117    0 days\n",
       "Name: days_burning, dtype: timedelta64[ns]"
      ]
     },
     "execution_count": 55,
     "metadata": {},
     "output_type": "execute_result"
    }
   ],
   "source": [
    "df_days_busning100.head()"
   ]
  },
  {
   "cell_type": "code",
   "execution_count": 34,
   "id": "094440ed",
   "metadata": {},
   "outputs": [
    {
     "data": {
      "text/plain": [
       "<bound method Series.info of 16        15 days\n",
       "17         4 days\n",
       "25         0 days\n",
       "37         1 days\n",
       "39         1 days\n",
       "            ...  \n",
       "1880387    0 days\n",
       "1880399    0 days\n",
       "1880411    0 days\n",
       "1880419       NaT\n",
       "1880441       NaT\n",
       "Name: days_burning, Length: 274123, dtype: timedelta64[ns]>"
      ]
     },
     "execution_count": 34,
     "metadata": {},
     "output_type": "execute_result"
    }
   ],
   "source": [
    "df['days_burning'].info"
   ]
  },
  {
   "cell_type": "code",
   "execution_count": 39,
   "id": "28fc0048",
   "metadata": {},
   "outputs": [
    {
     "data": {
      "text/plain": [
       "136747"
      ]
     },
     "execution_count": 39,
     "metadata": {},
     "output_type": "execute_result"
    }
   ],
   "source": [
    "df['days_burning'].isna().sum()"
   ]
  },
  {
   "cell_type": "code",
   "execution_count": 40,
   "id": "2bfba83b",
   "metadata": {},
   "outputs": [
    {
     "data": {
      "text/plain": [
       "16        15 days\n",
       "17         4 days\n",
       "25         0 days\n",
       "37         1 days\n",
       "39         1 days\n",
       "            ...  \n",
       "1880370    1 days\n",
       "1880377    5 days\n",
       "1880387    0 days\n",
       "1880399    0 days\n",
       "1880411    0 days\n",
       "Name: days_burning, Length: 137376, dtype: timedelta64[ns]"
      ]
     },
     "execution_count": 40,
     "metadata": {},
     "output_type": "execute_result"
    }
   ],
   "source": [
    "df['days_burning'].dropna()"
   ]
  },
  {
   "cell_type": "code",
   "execution_count": 44,
   "id": "82a2dbf0",
   "metadata": {},
   "outputs": [],
   "source": [
    "# Replace missing or invalid values with a default value (e.g., 0)\n",
    "df['days_burning'].fillna(pd.Timedelta(0), inplace=True)\n",
    "\n",
    "# Convert timedelta to number of days and then to integer\n",
    "df['days_burning_int'] = df['days_burning'].dt.days.astype(int)"
   ]
  },
  {
   "cell_type": "code",
   "execution_count": 48,
   "id": "45dc250a",
   "metadata": {},
   "outputs": [
    {
     "data": {
      "text/html": [
       "<div>\n",
       "<style scoped>\n",
       "    .dataframe tbody tr th:only-of-type {\n",
       "        vertical-align: middle;\n",
       "    }\n",
       "\n",
       "    .dataframe tbody tr th {\n",
       "        vertical-align: top;\n",
       "    }\n",
       "\n",
       "    .dataframe thead th {\n",
       "        text-align: right;\n",
       "    }\n",
       "</style>\n",
       "<table border=\"1\" class=\"dataframe\">\n",
       "  <thead>\n",
       "    <tr style=\"text-align: right;\">\n",
       "      <th></th>\n",
       "      <th>fire_name</th>\n",
       "      <th>acres_burned</th>\n",
       "      <th>state</th>\n",
       "      <th>latitude</th>\n",
       "      <th>longitude</th>\n",
       "      <th>fire_year</th>\n",
       "      <th>discovery_date</th>\n",
       "      <th>contain_date</th>\n",
       "      <th>days_burning</th>\n",
       "      <th>fire_month</th>\n",
       "      <th>days_burning_int</th>\n",
       "    </tr>\n",
       "  </thead>\n",
       "  <tbody>\n",
       "    <tr>\n",
       "      <th>16</th>\n",
       "      <td>Power</td>\n",
       "      <td>16823.0</td>\n",
       "      <td>CA</td>\n",
       "      <td>38.523333</td>\n",
       "      <td>-120.211667</td>\n",
       "      <td>2004</td>\n",
       "      <td>2004-10-06</td>\n",
       "      <td>2004-10-21</td>\n",
       "      <td>15 days</td>\n",
       "      <td>10</td>\n",
       "      <td>15</td>\n",
       "    </tr>\n",
       "    <tr>\n",
       "      <th>17</th>\n",
       "      <td>Freds</td>\n",
       "      <td>7700.0</td>\n",
       "      <td>CA</td>\n",
       "      <td>38.780000</td>\n",
       "      <td>-120.260000</td>\n",
       "      <td>2004</td>\n",
       "      <td>2004-10-13</td>\n",
       "      <td>2004-10-17</td>\n",
       "      <td>4 days</td>\n",
       "      <td>10</td>\n",
       "      <td>4</td>\n",
       "    </tr>\n",
       "    <tr>\n",
       "      <th>25</th>\n",
       "      <td>Bachelor</td>\n",
       "      <td>10.0</td>\n",
       "      <td>NM</td>\n",
       "      <td>33.315833</td>\n",
       "      <td>-105.512222</td>\n",
       "      <td>2004</td>\n",
       "      <td>2004-07-20</td>\n",
       "      <td>2004-07-20</td>\n",
       "      <td>0 days</td>\n",
       "      <td>7</td>\n",
       "      <td>0</td>\n",
       "    </tr>\n",
       "    <tr>\n",
       "      <th>37</th>\n",
       "      <td>Howard gap</td>\n",
       "      <td>50.3</td>\n",
       "      <td>NC</td>\n",
       "      <td>35.000278</td>\n",
       "      <td>-83.351111</td>\n",
       "      <td>2005</td>\n",
       "      <td>2005-01-27</td>\n",
       "      <td>2005-01-28</td>\n",
       "      <td>1 days</td>\n",
       "      <td>1</td>\n",
       "      <td>1</td>\n",
       "    </tr>\n",
       "    <tr>\n",
       "      <th>39</th>\n",
       "      <td>Austin creek</td>\n",
       "      <td>125.0</td>\n",
       "      <td>NC</td>\n",
       "      <td>36.001667</td>\n",
       "      <td>-81.590000</td>\n",
       "      <td>2005</td>\n",
       "      <td>2005-02-12</td>\n",
       "      <td>2005-02-13</td>\n",
       "      <td>1 days</td>\n",
       "      <td>2</td>\n",
       "      <td>1</td>\n",
       "    </tr>\n",
       "  </tbody>\n",
       "</table>\n",
       "</div>"
      ],
      "text/plain": [
       "       fire_name  acres_burned state   latitude   longitude  fire_year  \\\n",
       "16         Power       16823.0    CA  38.523333 -120.211667       2004   \n",
       "17         Freds        7700.0    CA  38.780000 -120.260000       2004   \n",
       "25      Bachelor          10.0    NM  33.315833 -105.512222       2004   \n",
       "37    Howard gap          50.3    NC  35.000278  -83.351111       2005   \n",
       "39  Austin creek         125.0    NC  36.001667  -81.590000       2005   \n",
       "\n",
       "   discovery_date contain_date days_burning  fire_month  days_burning_int  \n",
       "16     2004-10-06   2004-10-21      15 days          10                15  \n",
       "17     2004-10-13   2004-10-17       4 days          10                 4  \n",
       "25     2004-07-20   2004-07-20       0 days           7                 0  \n",
       "37     2005-01-27   2005-01-28       1 days           1                 1  \n",
       "39     2005-02-12   2005-02-13       1 days           2                 1  "
      ]
     },
     "execution_count": 48,
     "metadata": {},
     "output_type": "execute_result"
    }
   ],
   "source": [
    "df.head()"
   ]
  },
  {
   "cell_type": "code",
   "execution_count": 52,
   "id": "ca0e3538",
   "metadata": {},
   "outputs": [
    {
     "data": {
      "text/plain": [
       "<Axes: ylabel='days_burning_int'>"
      ]
     },
     "execution_count": 52,
     "metadata": {},
     "output_type": "execute_result"
    },
    {
     "data": {
      "image/png": "[encoded data removed]",
      "text/plain": [
       "<Figure size 640x480 with 1 Axes>"
      ]
     },
     "metadata": {},
     "output_type": "display_data"
    }
   ],
   "source": [
    "sns.boxplot(data=df, y='days_burning_int')"
   ]
  },
  {
   "cell_type": "code",
   "execution_count": null,
   "id": "125d90bb",
   "metadata": {},
   "outputs": [],
   "source": []
  }
 ],
 "metadata": {
  "kernelspec": {
   "display_name": "Python 3 (ipykernel)",
   "language": "python",
   "name": "python3"
  },
  "language_info": {
   "codemirror_mode": {
    "name": "ipython",
    "version": 3
   },
   "file_extension": ".py",
   "mimetype": "text/x-python",
   "name": "python",
   "nbconvert_exporter": "python",
   "pygments_lexer": "ipython3",
   "version": "3.11.5"
  }
 },
 "nbformat": 4,
 "nbformat_minor": 5
}
